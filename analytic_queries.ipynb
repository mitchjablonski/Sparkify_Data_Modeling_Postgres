{
 "cells": [
  {
   "cell_type": "code",
   "execution_count": 1,
   "metadata": {
    "editable": true
   },
   "outputs": [],
   "source": [
    "import psycopg2\n",
    "import pandas as pd\n",
    "import altair as alt"
   ]
  },
  {
   "cell_type": "code",
   "execution_count": 2,
   "metadata": {
    "editable": true
   },
   "outputs": [],
   "source": [
    "conn = psycopg2.connect(\"host=127.0.0.1 dbname=sparkifydb user=student password=student\")\n",
    "cur = conn.cursor()"
   ]
  },
  {
   "cell_type": "code",
   "execution_count": 3,
   "metadata": {
    "editable": true
   },
   "outputs": [],
   "source": [
    "def get_dataframe_from_query(cur, query):\n",
    "    cur.execute(query)\n",
    "    results = cur.fetchall()\n",
    "    num_fields = len(cur.description)\n",
    "    field_names = [i[0] for i in cur.description]\n",
    "    return pd.DataFrame(results, columns=field_names)"
   ]
  },
  {
   "cell_type": "code",
   "execution_count": 4,
   "metadata": {
    "editable": true
   },
   "outputs": [],
   "source": [
    "sp_df = get_dataframe_from_query(cur, 'select * from songplays')"
   ]
  },
  {
   "cell_type": "code",
   "execution_count": 5,
   "metadata": {
    "editable": true
   },
   "outputs": [
    {
     "data": {
      "text/html": [
       "<div>\n",
       "<style scoped>\n",
       "    .dataframe tbody tr th:only-of-type {\n",
       "        vertical-align: middle;\n",
       "    }\n",
       "\n",
       "    .dataframe tbody tr th {\n",
       "        vertical-align: top;\n",
       "    }\n",
       "\n",
       "    .dataframe thead th {\n",
       "        text-align: right;\n",
       "    }\n",
       "</style>\n",
       "<table border=\"1\" class=\"dataframe\">\n",
       "  <thead>\n",
       "    <tr style=\"text-align: right;\">\n",
       "      <th></th>\n",
       "      <th>songplay_id</th>\n",
       "      <th>start_time</th>\n",
       "      <th>user_id</th>\n",
       "      <th>level</th>\n",
       "      <th>song_id</th>\n",
       "      <th>artist_id</th>\n",
       "      <th>session_id</th>\n",
       "      <th>location</th>\n",
       "      <th>user_agent</th>\n",
       "    </tr>\n",
       "  </thead>\n",
       "  <tbody>\n",
       "    <tr>\n",
       "      <th>0</th>\n",
       "      <td>0</td>\n",
       "      <td>00:22:07.796000</td>\n",
       "      <td>91</td>\n",
       "      <td>free</td>\n",
       "      <td>None</td>\n",
       "      <td>None</td>\n",
       "      <td>829</td>\n",
       "      <td>Dallas-Fort Worth-Arlington, TX</td>\n",
       "      <td>Mozilla/5.0 (compatible; MSIE 10.0; Windows NT...</td>\n",
       "    </tr>\n",
       "    <tr>\n",
       "      <th>1</th>\n",
       "      <td>1</td>\n",
       "      <td>01:08:41.796000</td>\n",
       "      <td>73</td>\n",
       "      <td>paid</td>\n",
       "      <td>None</td>\n",
       "      <td>None</td>\n",
       "      <td>1049</td>\n",
       "      <td>Tampa-St. Petersburg-Clearwater, FL</td>\n",
       "      <td>\"Mozilla/5.0 (Macintosh; Intel Mac OS X 10_9_4...</td>\n",
       "    </tr>\n",
       "  </tbody>\n",
       "</table>\n",
       "</div>"
      ],
      "text/plain": [
       "   songplay_id       start_time  user_id level song_id artist_id  session_id  \\\n",
       "0            0  00:22:07.796000       91  free    None      None         829   \n",
       "1            1  01:08:41.796000       73  paid    None      None        1049   \n",
       "\n",
       "                              location  \\\n",
       "0      Dallas-Fort Worth-Arlington, TX   \n",
       "1  Tampa-St. Petersburg-Clearwater, FL   \n",
       "\n",
       "                                          user_agent  \n",
       "0  Mozilla/5.0 (compatible; MSIE 10.0; Windows NT...  \n",
       "1  \"Mozilla/5.0 (Macintosh; Intel Mac OS X 10_9_4...  "
      ]
     },
     "execution_count": 5,
     "metadata": {},
     "output_type": "execute_result"
    }
   ],
   "source": [
    "sp_df.head(2)"
   ]
  },
  {
   "cell_type": "code",
   "execution_count": 40,
   "metadata": {
    "editable": true
   },
   "outputs": [
    {
     "data": {
      "text/plain": [
       "(6820, 9)"
      ]
     },
     "execution_count": 40,
     "metadata": {},
     "output_type": "execute_result"
    }
   ],
   "source": [
    "sp_df.shape"
   ]
  },
  {
   "cell_type": "markdown",
   "metadata": {
    "editable": true
   },
   "source": [
    "## We have a dataframe of shape, 6820, but only 1 unique song id/ artist id made it in our songplay table... inspect the data"
   ]
  },
  {
   "cell_type": "code",
   "execution_count": 42,
   "metadata": {
    "editable": true
   },
   "outputs": [
    {
     "data": {
      "text/plain": [
       "array([None, 'AR5KOSW1187FB35FF4'], dtype=object)"
      ]
     },
     "execution_count": 42,
     "metadata": {},
     "output_type": "execute_result"
    }
   ],
   "source": [
    "sp_df['artist_id'].unique()"
   ]
  },
  {
   "cell_type": "code",
   "execution_count": 43,
   "metadata": {
    "editable": true
   },
   "outputs": [
    {
     "data": {
      "text/plain": [
       "AR5KOSW1187FB35FF4    1\n",
       "Name: artist_id, dtype: int64"
      ]
     },
     "execution_count": 43,
     "metadata": {},
     "output_type": "execute_result"
    }
   ],
   "source": [
    "sp_df['artist_id'].value_counts()"
   ]
  },
  {
   "cell_type": "code",
   "execution_count": 44,
   "metadata": {
    "editable": true
   },
   "outputs": [
    {
     "data": {
      "text/plain": [
       "SOZCTXZ12AB0182364    1\n",
       "Name: song_id, dtype: int64"
      ]
     },
     "execution_count": 44,
     "metadata": {},
     "output_type": "execute_result"
    }
   ],
   "source": [
    "sp_df['song_id'].value_counts()"
   ]
  },
  {
   "cell_type": "code",
   "execution_count": 45,
   "metadata": {
    "editable": true
   },
   "outputs": [
    {
     "data": {
      "text/plain": [
       "array([None, 'SOZCTXZ12AB0182364'], dtype=object)"
      ]
     },
     "execution_count": 45,
     "metadata": {},
     "output_type": "execute_result"
    }
   ],
   "source": [
    "sp_df['song_id'].unique()"
   ]
  },
  {
   "cell_type": "markdown",
   "metadata": {
    "editable": true
   },
   "source": [
    "## Lets join with the songs/artist/user table to get detailed information"
   ]
  },
  {
   "cell_type": "code",
   "execution_count": 18,
   "metadata": {
    "editable": true
   },
   "outputs": [],
   "source": [
    "sp_det_df = get_dataframe_from_query(cur, '''select * from songplays JOIN users ON (songplays.user_id=users.user_id) \n",
    "                                             JOIN songs ON (songplays.song_id=songs.song_id) \n",
    "                                             JOIN artists ON (songplays.artist_id=artists.artist_id)''')"
   ]
  },
  {
   "cell_type": "code",
   "execution_count": 23,
   "metadata": {
    "editable": true
   },
   "outputs": [
    {
     "data": {
      "text/html": [
       "<div>\n",
       "<style scoped>\n",
       "    .dataframe tbody tr th:only-of-type {\n",
       "        vertical-align: middle;\n",
       "    }\n",
       "\n",
       "    .dataframe tbody tr th {\n",
       "        vertical-align: top;\n",
       "    }\n",
       "\n",
       "    .dataframe thead th {\n",
       "        text-align: right;\n",
       "    }\n",
       "</style>\n",
       "<table border=\"1\" class=\"dataframe\">\n",
       "  <thead>\n",
       "    <tr style=\"text-align: right;\">\n",
       "      <th></th>\n",
       "      <th>songplay_id</th>\n",
       "      <th>start_time</th>\n",
       "      <th>user_id</th>\n",
       "      <th>level</th>\n",
       "      <th>song_id</th>\n",
       "      <th>artist_id</th>\n",
       "      <th>session_id</th>\n",
       "      <th>location</th>\n",
       "      <th>user_agent</th>\n",
       "      <th>user_id</th>\n",
       "      <th>...</th>\n",
       "      <th>song_id</th>\n",
       "      <th>title</th>\n",
       "      <th>artist_id</th>\n",
       "      <th>year</th>\n",
       "      <th>duration</th>\n",
       "      <th>artist_id</th>\n",
       "      <th>name</th>\n",
       "      <th>location</th>\n",
       "      <th>latitude</th>\n",
       "      <th>longitude</th>\n",
       "    </tr>\n",
       "  </thead>\n",
       "  <tbody>\n",
       "    <tr>\n",
       "      <th>0</th>\n",
       "      <td>483</td>\n",
       "      <td>21:56:47.796000</td>\n",
       "      <td>15</td>\n",
       "      <td>paid</td>\n",
       "      <td>SOZCTXZ12AB0182364</td>\n",
       "      <td>AR5KOSW1187FB35FF4</td>\n",
       "      <td>818</td>\n",
       "      <td>Chicago-Naperville-Elgin, IL-IN-WI</td>\n",
       "      <td>\"Mozilla/5.0 (X11; Linux x86_64) AppleWebKit/5...</td>\n",
       "      <td>15</td>\n",
       "      <td>...</td>\n",
       "      <td>SOZCTXZ12AB0182364</td>\n",
       "      <td>Setanta matins</td>\n",
       "      <td>AR5KOSW1187FB35FF4</td>\n",
       "      <td>0</td>\n",
       "      <td>269.58322</td>\n",
       "      <td>AR5KOSW1187FB35FF4</td>\n",
       "      <td>Elena</td>\n",
       "      <td>Dubai UAE</td>\n",
       "      <td>49.80388</td>\n",
       "      <td>15.47491</td>\n",
       "    </tr>\n",
       "    <tr>\n",
       "      <th>1</th>\n",
       "      <td>483</td>\n",
       "      <td>21:56:47.796000</td>\n",
       "      <td>15</td>\n",
       "      <td>paid</td>\n",
       "      <td>SOZCTXZ12AB0182364</td>\n",
       "      <td>AR5KOSW1187FB35FF4</td>\n",
       "      <td>818</td>\n",
       "      <td>Chicago-Naperville-Elgin, IL-IN-WI</td>\n",
       "      <td>\"Mozilla/5.0 (X11; Linux x86_64) AppleWebKit/5...</td>\n",
       "      <td>15</td>\n",
       "      <td>...</td>\n",
       "      <td>SOZCTXZ12AB0182364</td>\n",
       "      <td>Setanta matins</td>\n",
       "      <td>AR5KOSW1187FB35FF4</td>\n",
       "      <td>0</td>\n",
       "      <td>269.58322</td>\n",
       "      <td>AR5KOSW1187FB35FF4</td>\n",
       "      <td>Elena</td>\n",
       "      <td>Dubai UAE</td>\n",
       "      <td>49.80388</td>\n",
       "      <td>15.47491</td>\n",
       "    </tr>\n",
       "  </tbody>\n",
       "</table>\n",
       "<p>2 rows × 24 columns</p>\n",
       "</div>"
      ],
      "text/plain": [
       "   songplay_id       start_time  user_id level             song_id  \\\n",
       "0          483  21:56:47.796000       15  paid  SOZCTXZ12AB0182364   \n",
       "1          483  21:56:47.796000       15  paid  SOZCTXZ12AB0182364   \n",
       "\n",
       "            artist_id  session_id                            location  \\\n",
       "0  AR5KOSW1187FB35FF4         818  Chicago-Naperville-Elgin, IL-IN-WI   \n",
       "1  AR5KOSW1187FB35FF4         818  Chicago-Naperville-Elgin, IL-IN-WI   \n",
       "\n",
       "                                          user_agent  user_id    ...     \\\n",
       "0  \"Mozilla/5.0 (X11; Linux x86_64) AppleWebKit/5...       15    ...      \n",
       "1  \"Mozilla/5.0 (X11; Linux x86_64) AppleWebKit/5...       15    ...      \n",
       "\n",
       "              song_id           title           artist_id year   duration  \\\n",
       "0  SOZCTXZ12AB0182364  Setanta matins  AR5KOSW1187FB35FF4    0  269.58322   \n",
       "1  SOZCTXZ12AB0182364  Setanta matins  AR5KOSW1187FB35FF4    0  269.58322   \n",
       "\n",
       "            artist_id   name   location  latitude longitude  \n",
       "0  AR5KOSW1187FB35FF4  Elena  Dubai UAE  49.80388  15.47491  \n",
       "1  AR5KOSW1187FB35FF4  Elena  Dubai UAE  49.80388  15.47491  \n",
       "\n",
       "[2 rows x 24 columns]"
      ]
     },
     "execution_count": 23,
     "metadata": {},
     "output_type": "execute_result"
    }
   ],
   "source": [
    "sp_det_df.head(2)"
   ]
  },
  {
   "cell_type": "code",
   "execution_count": 46,
   "metadata": {
    "editable": true
   },
   "outputs": [
    {
     "data": {
      "text/plain": [
       "(463, 24)"
      ]
     },
     "execution_count": 46,
     "metadata": {},
     "output_type": "execute_result"
    }
   ],
   "source": [
    "sp_det_df.shape"
   ]
  },
  {
   "cell_type": "code",
   "execution_count": 47,
   "metadata": {
    "editable": true
   },
   "outputs": [
    {
     "data": {
      "text/plain": [
       "array(['Setanta matins'], dtype=object)"
      ]
     },
     "execution_count": 47,
     "metadata": {},
     "output_type": "execute_result"
    }
   ],
   "source": [
    "sp_det_df.title.unique()"
   ]
  },
  {
   "cell_type": "code",
   "execution_count": 49,
   "metadata": {
    "editable": true
   },
   "outputs": [
    {
     "data": {
      "text/plain": [
       "array(['Elena'], dtype=object)"
      ]
     },
     "execution_count": 49,
     "metadata": {},
     "output_type": "execute_result"
    }
   ],
   "source": [
    "sp_det_df.name.unique()"
   ]
  },
  {
   "cell_type": "markdown",
   "metadata": {
    "editable": true
   },
   "source": [
    "## We didn't return much data, due to the lack of all of the artists/songs being matched... lets look at that data"
   ]
  },
  {
   "cell_type": "code",
   "execution_count": 50,
   "metadata": {
    "editable": true
   },
   "outputs": [],
   "source": [
    "artists_df = get_dataframe_from_query(cur, '''select * from artists\n",
    "                                            ''')"
   ]
  },
  {
   "cell_type": "code",
   "execution_count": 51,
   "metadata": {
    "editable": true
   },
   "outputs": [
    {
     "data": {
      "text/plain": [
       "array(['Casual', 'Clp', 'Planet P Project', 'Tweeterfriendly Music',\n",
       "       'The Box Tops', 'Jeff And Sheri Easter', 'Rated R', 'JennyAnyKind',\n",
       "       'Adam Ant', 'Gob'], dtype=object)"
      ]
     },
     "execution_count": 51,
     "metadata": {},
     "output_type": "execute_result"
    }
   ],
   "source": [
    "artists_df['name'].unique()[:10]"
   ]
  },
  {
   "cell_type": "code",
   "execution_count": 52,
   "metadata": {
    "editable": true
   },
   "outputs": [],
   "source": [
    "songs_df = get_dataframe_from_query(cur, '''select * from songs\n",
    "                                            ''')"
   ]
  },
  {
   "cell_type": "code",
   "execution_count": 53,
   "metadata": {
    "editable": true
   },
   "outputs": [
    {
     "data": {
      "text/plain": [
       "array([\"I Didn't Mean To\", 'Insatiable (Instrumental Version)',\n",
       "       'Pink World', 'Drop of Rain', 'Soul Deep',\n",
       "       'The Moon And I (Ordinary Day Album Version)',\n",
       "       'Keepin It Real (Skit)', 'Young Boy Blues', 'Something Girls',\n",
       "       'Face the Ashes'], dtype=object)"
      ]
     },
     "execution_count": 53,
     "metadata": {},
     "output_type": "execute_result"
    }
   ],
   "source": [
    "songs_df['title'].unique()[:10]"
   ]
  },
  {
   "cell_type": "markdown",
   "metadata": {
    "editable": true
   },
   "source": [
    "## Lets check that this makes sense.  Using the log files, lets loop through them, and double check that we dont have more matches on our artist names/song titles then we are seeing above"
   ]
  },
  {
   "cell_type": "code",
   "execution_count": 54,
   "metadata": {
    "editable": true
   },
   "outputs": [
    {
     "name": "stderr",
     "output_type": "stream",
     "text": [
      "/opt/conda/lib/python3.6/site-packages/ipykernel_launcher.py:21: FutureWarning: comparison to `None` will result in an elementwise object comparison in the future.\n",
      "/opt/conda/lib/python3.6/site-packages/ipykernel_launcher.py:23: FutureWarning: comparison to `None` will result in an elementwise object comparison in the future.\n",
      "/opt/conda/lib/python3.6/site-packages/ipykernel_launcher.py:21: FutureWarning: comparison to `None` will result in an elementwise object comparison in the future.\n",
      "/opt/conda/lib/python3.6/site-packages/ipykernel_launcher.py:23: FutureWarning: comparison to `None` will result in an elementwise object comparison in the future.\n",
      "/opt/conda/lib/python3.6/site-packages/ipykernel_launcher.py:21: FutureWarning: comparison to `None` will result in an elementwise object comparison in the future.\n",
      "/opt/conda/lib/python3.6/site-packages/ipykernel_launcher.py:23: FutureWarning: comparison to `None` will result in an elementwise object comparison in the future.\n",
      "/opt/conda/lib/python3.6/site-packages/ipykernel_launcher.py:21: FutureWarning: comparison to `None` will result in an elementwise object comparison in the future.\n",
      "/opt/conda/lib/python3.6/site-packages/ipykernel_launcher.py:23: FutureWarning: comparison to `None` will result in an elementwise object comparison in the future.\n",
      "/opt/conda/lib/python3.6/site-packages/ipykernel_launcher.py:21: FutureWarning: comparison to `None` will result in an elementwise object comparison in the future.\n",
      "/opt/conda/lib/python3.6/site-packages/ipykernel_launcher.py:23: FutureWarning: comparison to `None` will result in an elementwise object comparison in the future.\n",
      "/opt/conda/lib/python3.6/site-packages/ipykernel_launcher.py:21: FutureWarning: comparison to `None` will result in an elementwise object comparison in the future.\n",
      "/opt/conda/lib/python3.6/site-packages/ipykernel_launcher.py:23: FutureWarning: comparison to `None` will result in an elementwise object comparison in the future.\n",
      "/opt/conda/lib/python3.6/site-packages/ipykernel_launcher.py:21: FutureWarning: comparison to `None` will result in an elementwise object comparison in the future.\n",
      "/opt/conda/lib/python3.6/site-packages/ipykernel_launcher.py:23: FutureWarning: comparison to `None` will result in an elementwise object comparison in the future.\n",
      "/opt/conda/lib/python3.6/site-packages/ipykernel_launcher.py:21: FutureWarning: comparison to `None` will result in an elementwise object comparison in the future.\n",
      "/opt/conda/lib/python3.6/site-packages/ipykernel_launcher.py:23: FutureWarning: comparison to `None` will result in an elementwise object comparison in the future.\n",
      "/opt/conda/lib/python3.6/site-packages/ipykernel_launcher.py:21: FutureWarning: comparison to `None` will result in an elementwise object comparison in the future.\n",
      "/opt/conda/lib/python3.6/site-packages/ipykernel_launcher.py:23: FutureWarning: comparison to `None` will result in an elementwise object comparison in the future.\n",
      "/opt/conda/lib/python3.6/site-packages/ipykernel_launcher.py:21: FutureWarning: comparison to `None` will result in an elementwise object comparison in the future.\n",
      "/opt/conda/lib/python3.6/site-packages/ipykernel_launcher.py:23: FutureWarning: comparison to `None` will result in an elementwise object comparison in the future.\n",
      "/opt/conda/lib/python3.6/site-packages/ipykernel_launcher.py:21: FutureWarning: comparison to `None` will result in an elementwise object comparison in the future.\n",
      "/opt/conda/lib/python3.6/site-packages/ipykernel_launcher.py:23: FutureWarning: comparison to `None` will result in an elementwise object comparison in the future.\n",
      "/opt/conda/lib/python3.6/site-packages/ipykernel_launcher.py:21: FutureWarning: comparison to `None` will result in an elementwise object comparison in the future.\n",
      "/opt/conda/lib/python3.6/site-packages/ipykernel_launcher.py:23: FutureWarning: comparison to `None` will result in an elementwise object comparison in the future.\n",
      "/opt/conda/lib/python3.6/site-packages/ipykernel_launcher.py:21: FutureWarning: comparison to `None` will result in an elementwise object comparison in the future.\n",
      "/opt/conda/lib/python3.6/site-packages/ipykernel_launcher.py:23: FutureWarning: comparison to `None` will result in an elementwise object comparison in the future.\n",
      "/opt/conda/lib/python3.6/site-packages/ipykernel_launcher.py:21: FutureWarning: comparison to `None` will result in an elementwise object comparison in the future.\n",
      "/opt/conda/lib/python3.6/site-packages/ipykernel_launcher.py:23: FutureWarning: comparison to `None` will result in an elementwise object comparison in the future.\n",
      "/opt/conda/lib/python3.6/site-packages/ipykernel_launcher.py:21: FutureWarning: comparison to `None` will result in an elementwise object comparison in the future.\n",
      "/opt/conda/lib/python3.6/site-packages/ipykernel_launcher.py:23: FutureWarning: comparison to `None` will result in an elementwise object comparison in the future.\n",
      "/opt/conda/lib/python3.6/site-packages/ipykernel_launcher.py:21: FutureWarning: comparison to `None` will result in an elementwise object comparison in the future.\n",
      "/opt/conda/lib/python3.6/site-packages/ipykernel_launcher.py:23: FutureWarning: comparison to `None` will result in an elementwise object comparison in the future.\n",
      "/opt/conda/lib/python3.6/site-packages/ipykernel_launcher.py:21: FutureWarning: comparison to `None` will result in an elementwise object comparison in the future.\n",
      "/opt/conda/lib/python3.6/site-packages/ipykernel_launcher.py:23: FutureWarning: comparison to `None` will result in an elementwise object comparison in the future.\n",
      "/opt/conda/lib/python3.6/site-packages/ipykernel_launcher.py:21: FutureWarning: comparison to `None` will result in an elementwise object comparison in the future.\n",
      "/opt/conda/lib/python3.6/site-packages/ipykernel_launcher.py:23: FutureWarning: comparison to `None` will result in an elementwise object comparison in the future.\n",
      "/opt/conda/lib/python3.6/site-packages/ipykernel_launcher.py:21: FutureWarning: comparison to `None` will result in an elementwise object comparison in the future.\n",
      "/opt/conda/lib/python3.6/site-packages/ipykernel_launcher.py:23: FutureWarning: comparison to `None` will result in an elementwise object comparison in the future.\n",
      "/opt/conda/lib/python3.6/site-packages/ipykernel_launcher.py:21: FutureWarning: comparison to `None` will result in an elementwise object comparison in the future.\n",
      "/opt/conda/lib/python3.6/site-packages/ipykernel_launcher.py:23: FutureWarning: comparison to `None` will result in an elementwise object comparison in the future.\n",
      "/opt/conda/lib/python3.6/site-packages/ipykernel_launcher.py:21: FutureWarning: comparison to `None` will result in an elementwise object comparison in the future.\n",
      "/opt/conda/lib/python3.6/site-packages/ipykernel_launcher.py:23: FutureWarning: comparison to `None` will result in an elementwise object comparison in the future.\n",
      "/opt/conda/lib/python3.6/site-packages/ipykernel_launcher.py:21: FutureWarning: comparison to `None` will result in an elementwise object comparison in the future.\n",
      "/opt/conda/lib/python3.6/site-packages/ipykernel_launcher.py:23: FutureWarning: comparison to `None` will result in an elementwise object comparison in the future.\n",
      "/opt/conda/lib/python3.6/site-packages/ipykernel_launcher.py:21: FutureWarning: comparison to `None` will result in an elementwise object comparison in the future.\n",
      "/opt/conda/lib/python3.6/site-packages/ipykernel_launcher.py:23: FutureWarning: comparison to `None` will result in an elementwise object comparison in the future.\n",
      "/opt/conda/lib/python3.6/site-packages/ipykernel_launcher.py:21: FutureWarning: comparison to `None` will result in an elementwise object comparison in the future.\n",
      "/opt/conda/lib/python3.6/site-packages/ipykernel_launcher.py:23: FutureWarning: comparison to `None` will result in an elementwise object comparison in the future.\n",
      "/opt/conda/lib/python3.6/site-packages/ipykernel_launcher.py:21: FutureWarning: comparison to `None` will result in an elementwise object comparison in the future.\n",
      "/opt/conda/lib/python3.6/site-packages/ipykernel_launcher.py:23: FutureWarning: comparison to `None` will result in an elementwise object comparison in the future.\n",
      "/opt/conda/lib/python3.6/site-packages/ipykernel_launcher.py:21: FutureWarning: comparison to `None` will result in an elementwise object comparison in the future.\n",
      "/opt/conda/lib/python3.6/site-packages/ipykernel_launcher.py:23: FutureWarning: comparison to `None` will result in an elementwise object comparison in the future.\n",
      "/opt/conda/lib/python3.6/site-packages/ipykernel_launcher.py:21: FutureWarning: comparison to `None` will result in an elementwise object comparison in the future.\n",
      "/opt/conda/lib/python3.6/site-packages/ipykernel_launcher.py:23: FutureWarning: comparison to `None` will result in an elementwise object comparison in the future.\n",
      "/opt/conda/lib/python3.6/site-packages/ipykernel_launcher.py:21: FutureWarning: comparison to `None` will result in an elementwise object comparison in the future.\n",
      "/opt/conda/lib/python3.6/site-packages/ipykernel_launcher.py:23: FutureWarning: comparison to `None` will result in an elementwise object comparison in the future.\n",
      "/opt/conda/lib/python3.6/site-packages/ipykernel_launcher.py:21: FutureWarning: comparison to `None` will result in an elementwise object comparison in the future.\n",
      "/opt/conda/lib/python3.6/site-packages/ipykernel_launcher.py:23: FutureWarning: comparison to `None` will result in an elementwise object comparison in the future.\n",
      "/opt/conda/lib/python3.6/site-packages/ipykernel_launcher.py:21: FutureWarning: comparison to `None` will result in an elementwise object comparison in the future.\n",
      "/opt/conda/lib/python3.6/site-packages/ipykernel_launcher.py:23: FutureWarning: comparison to `None` will result in an elementwise object comparison in the future.\n"
     ]
    }
   ],
   "source": [
    "import os\n",
    "import glob\n",
    "import pandas as pd\n",
    "def get_files(filepath):\n",
    "    all_files = []\n",
    "    for root, dirs, files in os.walk(filepath):\n",
    "        files = glob.glob(os.path.join(root,'*.json'))\n",
    "        for f in files :\n",
    "            all_files.append(os.path.abspath(f))\n",
    "    \n",
    "    return all_files\n",
    "log_filepath = 'data/log_data'\n",
    "log_files = get_files(log_filepath)\n",
    "all_file_artists = []\n",
    "all_file_songs = []\n",
    "all_artists = artists_df['name'].unique()\n",
    "all_songs = songs_df['title'].unique()\n",
    "for log_file in log_files:\n",
    "    df = pd.read_json(log_file, lines=True)\n",
    "    df.head(2)\n",
    "    held_artists = [artist in all_artists for artist in df['artist'].unique().tolist()]\n",
    "    all_file_artists.extend(held_artists)\n",
    "    held_songs = [song in all_songs for song in df['song'].unique().tolist()]\n",
    "    all_file_songs.extend(held_songs)\n",
    "    "
   ]
  },
  {
   "cell_type": "code",
   "execution_count": 55,
   "metadata": {
    "editable": true
   },
   "outputs": [
    {
     "data": {
      "text/plain": [
       "False    6661\n",
       "True        4\n",
       "dtype: int64"
      ]
     },
     "execution_count": 55,
     "metadata": {},
     "output_type": "execute_result"
    }
   ],
   "source": [
    "pd.Series(all_file_songs).value_counts()"
   ]
  },
  {
   "cell_type": "code",
   "execution_count": 56,
   "metadata": {
    "editable": true
   },
   "outputs": [
    {
     "data": {
      "text/plain": [
       "False    6133\n",
       "True       18\n",
       "dtype: int64"
      ]
     },
     "execution_count": 56,
     "metadata": {},
     "output_type": "execute_result"
    }
   ],
   "source": [
    "pd.Series(all_file_artists).value_counts()"
   ]
  },
  {
   "cell_type": "markdown",
   "metadata": {
    "editable": true
   },
   "source": [
    "### We can see we are only capturing a very small amount of the artists/songs in the log df with that in the songs df... Lets make sure that our song database actually has all of the data we would expect it to"
   ]
  },
  {
   "cell_type": "code",
   "execution_count": 58,
   "metadata": {
    "editable": true
   },
   "outputs": [],
   "source": [
    "filepath = 'data/song_data'\n",
    "song_files = get_files(filepath)\n",
    "unique_songs_file =[]\n",
    "unique_artists_file =[]\n",
    "for song_file in song_files:\n",
    "    df = pd.read_json(song_file, lines=True)\n",
    "    df.head()\n",
    "    unique_songs_file.append(df['title'][0])\n",
    "    unique_artists_file.append(df['artist_name'][0])"
   ]
  },
  {
   "cell_type": "code",
   "execution_count": 59,
   "metadata": {
    "editable": true
   },
   "outputs": [],
   "source": [
    "assert set(unique_songs_file) == set(all_songs), 'Print Expected Equal sets of songs'\n",
    "assert set(unique_artists_file) == set(all_artists), 'Print Expected Equal sets of artists'"
   ]
  },
  {
   "cell_type": "markdown",
   "metadata": {
    "editable": true
   },
   "source": [
    "### Our unique songs we found from parsing the files, is the same as that in the song/artist databases, so we know we dont have an insertion error"
   ]
  },
  {
   "cell_type": "markdown",
   "metadata": {
    "editable": true
   },
   "source": [
    "### Most of the interesting questions, like which artists, and songs are being skipped most often we won't be able to answer due to an incomplete dataset.  We can at least look at the top locations, users, and which session saw the most skips.   Additionally we can look at the user agents"
   ]
  },
  {
   "cell_type": "code",
   "execution_count": 65,
   "metadata": {
    "editable": true
   },
   "outputs": [
    {
     "data": {
      "text/html": [
       "<div>\n",
       "<style scoped>\n",
       "    .dataframe tbody tr th:only-of-type {\n",
       "        vertical-align: middle;\n",
       "    }\n",
       "\n",
       "    .dataframe tbody tr th {\n",
       "        vertical-align: top;\n",
       "    }\n",
       "\n",
       "    .dataframe thead th {\n",
       "        text-align: right;\n",
       "    }\n",
       "</style>\n",
       "<table border=\"1\" class=\"dataframe\">\n",
       "  <thead>\n",
       "    <tr style=\"text-align: right;\">\n",
       "      <th></th>\n",
       "      <th>songplay_id</th>\n",
       "      <th>start_time</th>\n",
       "      <th>user_id</th>\n",
       "      <th>level</th>\n",
       "      <th>song_id</th>\n",
       "      <th>artist_id</th>\n",
       "      <th>session_id</th>\n",
       "      <th>location</th>\n",
       "      <th>user_agent</th>\n",
       "    </tr>\n",
       "  </thead>\n",
       "  <tbody>\n",
       "    <tr>\n",
       "      <th>0</th>\n",
       "      <td>0</td>\n",
       "      <td>00:22:07.796000</td>\n",
       "      <td>91</td>\n",
       "      <td>free</td>\n",
       "      <td>None</td>\n",
       "      <td>None</td>\n",
       "      <td>829</td>\n",
       "      <td>Dallas-Fort Worth-Arlington, TX</td>\n",
       "      <td>Mozilla/5.0 (compatible; MSIE 10.0; Windows NT...</td>\n",
       "    </tr>\n",
       "    <tr>\n",
       "      <th>1</th>\n",
       "      <td>1</td>\n",
       "      <td>01:08:41.796000</td>\n",
       "      <td>73</td>\n",
       "      <td>paid</td>\n",
       "      <td>None</td>\n",
       "      <td>None</td>\n",
       "      <td>1049</td>\n",
       "      <td>Tampa-St. Petersburg-Clearwater, FL</td>\n",
       "      <td>\"Mozilla/5.0 (Macintosh; Intel Mac OS X 10_9_4...</td>\n",
       "    </tr>\n",
       "  </tbody>\n",
       "</table>\n",
       "</div>"
      ],
      "text/plain": [
       "   songplay_id       start_time  user_id level song_id artist_id  session_id  \\\n",
       "0            0  00:22:07.796000       91  free    None      None         829   \n",
       "1            1  01:08:41.796000       73  paid    None      None        1049   \n",
       "\n",
       "                              location  \\\n",
       "0      Dallas-Fort Worth-Arlington, TX   \n",
       "1  Tampa-St. Petersburg-Clearwater, FL   \n",
       "\n",
       "                                          user_agent  \n",
       "0  Mozilla/5.0 (compatible; MSIE 10.0; Windows NT...  \n",
       "1  \"Mozilla/5.0 (Macintosh; Intel Mac OS X 10_9_4...  "
      ]
     },
     "execution_count": 65,
     "metadata": {},
     "output_type": "execute_result"
    }
   ],
   "source": [
    "sp_df.head(2)"
   ]
  },
  {
   "cell_type": "code",
   "execution_count": 68,
   "metadata": {
    "editable": true
   },
   "outputs": [
    {
     "data": {
      "text/plain": [
       "'1.2.1'"
      ]
     },
     "execution_count": 68,
     "metadata": {},
     "output_type": "execute_result"
    }
   ],
   "source": [
    "alt.__version__"
   ]
  },
  {
   "cell_type": "code",
   "execution_count": 97,
   "metadata": {
    "editable": true
   },
   "outputs": [],
   "source": [
    "def get_col_counts(df_in, col):\n",
    "    tdf = pd.DataFrame(sp_df[col].value_counts())\n",
    "    tdf.reset_index(inplace=True)\n",
    "    tdf.columns = [col, 'count']\n",
    "    return tdf"
   ]
  },
  {
   "cell_type": "code",
   "execution_count": 98,
   "metadata": {
    "editable": true
   },
   "outputs": [],
   "source": [
    "tdf = get_col_counts(sp_df, 'location')"
   ]
  },
  {
   "cell_type": "code",
   "execution_count": 99,
   "metadata": {
    "editable": true
   },
   "outputs": [
    {
     "data": {
      "text/html": [
       "<div>\n",
       "<style scoped>\n",
       "    .dataframe tbody tr th:only-of-type {\n",
       "        vertical-align: middle;\n",
       "    }\n",
       "\n",
       "    .dataframe tbody tr th {\n",
       "        vertical-align: top;\n",
       "    }\n",
       "\n",
       "    .dataframe thead th {\n",
       "        text-align: right;\n",
       "    }\n",
       "</style>\n",
       "<table border=\"1\" class=\"dataframe\">\n",
       "  <thead>\n",
       "    <tr style=\"text-align: right;\">\n",
       "      <th></th>\n",
       "      <th>location</th>\n",
       "      <th>count</th>\n",
       "    </tr>\n",
       "  </thead>\n",
       "  <tbody>\n",
       "    <tr>\n",
       "      <th>0</th>\n",
       "      <td>San Francisco-Oakland-Hayward, CA</td>\n",
       "      <td>691</td>\n",
       "    </tr>\n",
       "    <tr>\n",
       "      <th>1</th>\n",
       "      <td>Portland-South Portland, ME</td>\n",
       "      <td>665</td>\n",
       "    </tr>\n",
       "    <tr>\n",
       "      <th>2</th>\n",
       "      <td>Lansing-East Lansing, MI</td>\n",
       "      <td>557</td>\n",
       "    </tr>\n",
       "    <tr>\n",
       "      <th>3</th>\n",
       "      <td>Chicago-Naperville-Elgin, IL-IN-WI</td>\n",
       "      <td>475</td>\n",
       "    </tr>\n",
       "    <tr>\n",
       "      <th>4</th>\n",
       "      <td>Atlanta-Sandy Springs-Roswell, GA</td>\n",
       "      <td>456</td>\n",
       "    </tr>\n",
       "    <tr>\n",
       "      <th>5</th>\n",
       "      <td>Waterloo-Cedar Falls, IA</td>\n",
       "      <td>397</td>\n",
       "    </tr>\n",
       "    <tr>\n",
       "      <th>6</th>\n",
       "      <td>Lake Havasu City-Kingman, AZ</td>\n",
       "      <td>321</td>\n",
       "    </tr>\n",
       "    <tr>\n",
       "      <th>7</th>\n",
       "      <td>Tampa-St. Petersburg-Clearwater, FL</td>\n",
       "      <td>307</td>\n",
       "    </tr>\n",
       "    <tr>\n",
       "      <th>8</th>\n",
       "      <td>San Jose-Sunnyvale-Santa Clara, CA</td>\n",
       "      <td>292</td>\n",
       "    </tr>\n",
       "    <tr>\n",
       "      <th>9</th>\n",
       "      <td>Sacramento--Roseville--Arden-Arcade, CA</td>\n",
       "      <td>270</td>\n",
       "    </tr>\n",
       "  </tbody>\n",
       "</table>\n",
       "</div>"
      ],
      "text/plain": [
       "                                  location  count\n",
       "0        San Francisco-Oakland-Hayward, CA    691\n",
       "1              Portland-South Portland, ME    665\n",
       "2                 Lansing-East Lansing, MI    557\n",
       "3       Chicago-Naperville-Elgin, IL-IN-WI    475\n",
       "4        Atlanta-Sandy Springs-Roswell, GA    456\n",
       "5                 Waterloo-Cedar Falls, IA    397\n",
       "6             Lake Havasu City-Kingman, AZ    321\n",
       "7      Tampa-St. Petersburg-Clearwater, FL    307\n",
       "8       San Jose-Sunnyvale-Santa Clara, CA    292\n",
       "9  Sacramento--Roseville--Arden-Arcade, CA    270"
      ]
     },
     "execution_count": 99,
     "metadata": {},
     "output_type": "execute_result"
    }
   ],
   "source": [
    "tdf[:10]"
   ]
  },
  {
   "cell_type": "code",
   "execution_count": 100,
   "metadata": {
    "editable": true
   },
   "outputs": [
    {
     "data": {
      "text/html": [
       "<div>\n",
       "<style scoped>\n",
       "    .dataframe tbody tr th:only-of-type {\n",
       "        vertical-align: middle;\n",
       "    }\n",
       "\n",
       "    .dataframe tbody tr th {\n",
       "        vertical-align: top;\n",
       "    }\n",
       "\n",
       "    .dataframe thead th {\n",
       "        text-align: right;\n",
       "    }\n",
       "</style>\n",
       "<table border=\"1\" class=\"dataframe\">\n",
       "  <thead>\n",
       "    <tr style=\"text-align: right;\">\n",
       "      <th></th>\n",
       "      <th>location</th>\n",
       "      <th>count</th>\n",
       "    </tr>\n",
       "  </thead>\n",
       "  <tbody>\n",
       "    <tr>\n",
       "      <th>53</th>\n",
       "      <td>London, KY</td>\n",
       "      <td>5</td>\n",
       "    </tr>\n",
       "    <tr>\n",
       "      <th>54</th>\n",
       "      <td>Parkersburg-Vienna, WV</td>\n",
       "      <td>5</td>\n",
       "    </tr>\n",
       "    <tr>\n",
       "      <th>55</th>\n",
       "      <td>San Diego-Carlsbad, CA</td>\n",
       "      <td>5</td>\n",
       "    </tr>\n",
       "    <tr>\n",
       "      <th>56</th>\n",
       "      <td>Salt Lake City, UT</td>\n",
       "      <td>4</td>\n",
       "    </tr>\n",
       "    <tr>\n",
       "      <th>57</th>\n",
       "      <td>Raleigh, NC</td>\n",
       "      <td>4</td>\n",
       "    </tr>\n",
       "    <tr>\n",
       "      <th>58</th>\n",
       "      <td>Saginaw, MI</td>\n",
       "      <td>3</td>\n",
       "    </tr>\n",
       "    <tr>\n",
       "      <th>59</th>\n",
       "      <td>Pensacola-Ferry Pass-Brent, FL</td>\n",
       "      <td>3</td>\n",
       "    </tr>\n",
       "    <tr>\n",
       "      <th>60</th>\n",
       "      <td>Elkhart-Goshen, IN</td>\n",
       "      <td>2</td>\n",
       "    </tr>\n",
       "    <tr>\n",
       "      <th>61</th>\n",
       "      <td>Miami-Fort Lauderdale-West Palm Beach, FL</td>\n",
       "      <td>2</td>\n",
       "    </tr>\n",
       "    <tr>\n",
       "      <th>62</th>\n",
       "      <td>Myrtle Beach-Conway-North Myrtle Beach, SC-NC</td>\n",
       "      <td>1</td>\n",
       "    </tr>\n",
       "  </tbody>\n",
       "</table>\n",
       "</div>"
      ],
      "text/plain": [
       "                                         location  count\n",
       "53                                     London, KY      5\n",
       "54                         Parkersburg-Vienna, WV      5\n",
       "55                         San Diego-Carlsbad, CA      5\n",
       "56                             Salt Lake City, UT      4\n",
       "57                                    Raleigh, NC      4\n",
       "58                                    Saginaw, MI      3\n",
       "59                 Pensacola-Ferry Pass-Brent, FL      3\n",
       "60                             Elkhart-Goshen, IN      2\n",
       "61      Miami-Fort Lauderdale-West Palm Beach, FL      2\n",
       "62  Myrtle Beach-Conway-North Myrtle Beach, SC-NC      1"
      ]
     },
     "execution_count": 100,
     "metadata": {},
     "output_type": "execute_result"
    }
   ],
   "source": [
    "tdf[-10:]"
   ]
  },
  {
   "cell_type": "code",
   "execution_count": 101,
   "metadata": {
    "editable": true
   },
   "outputs": [],
   "source": [
    "user_df = get_col_counts(sp_df, 'user_agent')"
   ]
  },
  {
   "cell_type": "code",
   "execution_count": 102,
   "metadata": {
    "editable": true
   },
   "outputs": [
    {
     "data": {
      "text/html": [
       "<div>\n",
       "<style scoped>\n",
       "    .dataframe tbody tr th:only-of-type {\n",
       "        vertical-align: middle;\n",
       "    }\n",
       "\n",
       "    .dataframe tbody tr th {\n",
       "        vertical-align: top;\n",
       "    }\n",
       "\n",
       "    .dataframe thead th {\n",
       "        text-align: right;\n",
       "    }\n",
       "</style>\n",
       "<table border=\"1\" class=\"dataframe\">\n",
       "  <thead>\n",
       "    <tr style=\"text-align: right;\">\n",
       "      <th></th>\n",
       "      <th>user_agent</th>\n",
       "      <th>count</th>\n",
       "    </tr>\n",
       "  </thead>\n",
       "  <tbody>\n",
       "    <tr>\n",
       "      <th>0</th>\n",
       "      <td>\"Mozilla/5.0 (Macintosh; Intel Mac OS X 10_9_4...</td>\n",
       "      <td>971</td>\n",
       "    </tr>\n",
       "    <tr>\n",
       "      <th>1</th>\n",
       "      <td>\"Mozilla/5.0 (Macintosh; Intel Mac OS X 10_9_4...</td>\n",
       "      <td>708</td>\n",
       "    </tr>\n",
       "    <tr>\n",
       "      <th>2</th>\n",
       "      <td>Mozilla/5.0 (Windows NT 5.1; rv:31.0) Gecko/20...</td>\n",
       "      <td>696</td>\n",
       "    </tr>\n",
       "    <tr>\n",
       "      <th>3</th>\n",
       "      <td>\"Mozilla/5.0 (X11; Linux x86_64) AppleWebKit/5...</td>\n",
       "      <td>577</td>\n",
       "    </tr>\n",
       "    <tr>\n",
       "      <th>4</th>\n",
       "      <td>\"Mozilla/5.0 (X11; Linux x86_64) AppleWebKit/5...</td>\n",
       "      <td>573</td>\n",
       "    </tr>\n",
       "    <tr>\n",
       "      <th>5</th>\n",
       "      <td>Mozilla/5.0 (Macintosh; Intel Mac OS X 10.9; r...</td>\n",
       "      <td>443</td>\n",
       "    </tr>\n",
       "    <tr>\n",
       "      <th>6</th>\n",
       "      <td>\"Mozilla/5.0 (Windows NT 6.3; WOW64) AppleWebK...</td>\n",
       "      <td>427</td>\n",
       "    </tr>\n",
       "    <tr>\n",
       "      <th>7</th>\n",
       "      <td>\"Mozilla/5.0 (Windows NT 6.1; WOW64) AppleWebK...</td>\n",
       "      <td>419</td>\n",
       "    </tr>\n",
       "    <tr>\n",
       "      <th>8</th>\n",
       "      <td>\"Mozilla/5.0 (Macintosh; Intel Mac OS X 10_9_4...</td>\n",
       "      <td>319</td>\n",
       "    </tr>\n",
       "    <tr>\n",
       "      <th>9</th>\n",
       "      <td>Mozilla/5.0 (Windows NT 6.1; WOW64; rv:31.0) G...</td>\n",
       "      <td>310</td>\n",
       "    </tr>\n",
       "  </tbody>\n",
       "</table>\n",
       "</div>"
      ],
      "text/plain": [
       "                                          user_agent  count\n",
       "0  \"Mozilla/5.0 (Macintosh; Intel Mac OS X 10_9_4...    971\n",
       "1  \"Mozilla/5.0 (Macintosh; Intel Mac OS X 10_9_4...    708\n",
       "2  Mozilla/5.0 (Windows NT 5.1; rv:31.0) Gecko/20...    696\n",
       "3  \"Mozilla/5.0 (X11; Linux x86_64) AppleWebKit/5...    577\n",
       "4  \"Mozilla/5.0 (X11; Linux x86_64) AppleWebKit/5...    573\n",
       "5  Mozilla/5.0 (Macintosh; Intel Mac OS X 10.9; r...    443\n",
       "6  \"Mozilla/5.0 (Windows NT 6.3; WOW64) AppleWebK...    427\n",
       "7  \"Mozilla/5.0 (Windows NT 6.1; WOW64) AppleWebK...    419\n",
       "8  \"Mozilla/5.0 (Macintosh; Intel Mac OS X 10_9_4...    319\n",
       "9  Mozilla/5.0 (Windows NT 6.1; WOW64; rv:31.0) G...    310"
      ]
     },
     "execution_count": 102,
     "metadata": {},
     "output_type": "execute_result"
    }
   ],
   "source": [
    "user_df[:10]"
   ]
  },
  {
   "cell_type": "code",
   "execution_count": 107,
   "metadata": {
    "editable": true
   },
   "outputs": [
    {
     "data": {
      "text/plain": [
       "'\"Mozilla/5.0 (Macintosh; Intel Mac OS X 10_9_4) AppleWebKit/537.36 (KHTML, like Gecko) Chrome/36.0.1985.143 Safari/537.36\"'"
      ]
     },
     "execution_count": 107,
     "metadata": {},
     "output_type": "execute_result"
    }
   ],
   "source": [
    "user_df.iloc[0]['user_agent']"
   ]
  },
  {
   "cell_type": "code",
   "execution_count": 103,
   "metadata": {
    "editable": true
   },
   "outputs": [
    {
     "data": {
      "text/html": [
       "<div>\n",
       "<style scoped>\n",
       "    .dataframe tbody tr th:only-of-type {\n",
       "        vertical-align: middle;\n",
       "    }\n",
       "\n",
       "    .dataframe tbody tr th {\n",
       "        vertical-align: top;\n",
       "    }\n",
       "\n",
       "    .dataframe thead th {\n",
       "        text-align: right;\n",
       "    }\n",
       "</style>\n",
       "<table border=\"1\" class=\"dataframe\">\n",
       "  <thead>\n",
       "    <tr style=\"text-align: right;\">\n",
       "      <th></th>\n",
       "      <th>user_agent</th>\n",
       "      <th>count</th>\n",
       "    </tr>\n",
       "  </thead>\n",
       "  <tbody>\n",
       "    <tr>\n",
       "      <th>30</th>\n",
       "      <td>\"Mozilla/5.0 (Windows NT 6.1) AppleWebKit/537....</td>\n",
       "      <td>9</td>\n",
       "    </tr>\n",
       "    <tr>\n",
       "      <th>31</th>\n",
       "      <td>Mozilla/5.0 (compatible; MSIE 10.0; Windows NT...</td>\n",
       "      <td>9</td>\n",
       "    </tr>\n",
       "    <tr>\n",
       "      <th>32</th>\n",
       "      <td>\"Mozilla/5.0 (Macintosh; Intel Mac OS X 10_6_8...</td>\n",
       "      <td>8</td>\n",
       "    </tr>\n",
       "    <tr>\n",
       "      <th>33</th>\n",
       "      <td>\"Mozilla/5.0 (Macintosh; Intel Mac OS X 10_9_3...</td>\n",
       "      <td>5</td>\n",
       "    </tr>\n",
       "    <tr>\n",
       "      <th>34</th>\n",
       "      <td>\"Mozilla/5.0 (Macintosh; Intel Mac OS X 10_9_2...</td>\n",
       "      <td>5</td>\n",
       "    </tr>\n",
       "    <tr>\n",
       "      <th>35</th>\n",
       "      <td>Mozilla/5.0 (X11; Linux x86_64; rv:31.0) Gecko...</td>\n",
       "      <td>3</td>\n",
       "    </tr>\n",
       "    <tr>\n",
       "      <th>36</th>\n",
       "      <td>\"Mozilla/5.0 (Windows NT 6.1; WOW64) AppleWebK...</td>\n",
       "      <td>2</td>\n",
       "    </tr>\n",
       "    <tr>\n",
       "      <th>37</th>\n",
       "      <td>Mozilla/5.0 (compatible; MSIE 9.0; Windows NT ...</td>\n",
       "      <td>2</td>\n",
       "    </tr>\n",
       "    <tr>\n",
       "      <th>38</th>\n",
       "      <td>\"Mozilla/5.0 (Windows NT 6.2; WOW64) AppleWebK...</td>\n",
       "      <td>2</td>\n",
       "    </tr>\n",
       "    <tr>\n",
       "      <th>39</th>\n",
       "      <td>Mozilla/5.0 (Windows NT 6.3; WOW64; Trident/7....</td>\n",
       "      <td>1</td>\n",
       "    </tr>\n",
       "  </tbody>\n",
       "</table>\n",
       "</div>"
      ],
      "text/plain": [
       "                                           user_agent  count\n",
       "30  \"Mozilla/5.0 (Windows NT 6.1) AppleWebKit/537....      9\n",
       "31  Mozilla/5.0 (compatible; MSIE 10.0; Windows NT...      9\n",
       "32  \"Mozilla/5.0 (Macintosh; Intel Mac OS X 10_6_8...      8\n",
       "33  \"Mozilla/5.0 (Macintosh; Intel Mac OS X 10_9_3...      5\n",
       "34  \"Mozilla/5.0 (Macintosh; Intel Mac OS X 10_9_2...      5\n",
       "35  Mozilla/5.0 (X11; Linux x86_64; rv:31.0) Gecko...      3\n",
       "36  \"Mozilla/5.0 (Windows NT 6.1; WOW64) AppleWebK...      2\n",
       "37  Mozilla/5.0 (compatible; MSIE 9.0; Windows NT ...      2\n",
       "38  \"Mozilla/5.0 (Windows NT 6.2; WOW64) AppleWebK...      2\n",
       "39  Mozilla/5.0 (Windows NT 6.3; WOW64; Trident/7....      1"
      ]
     },
     "execution_count": 103,
     "metadata": {},
     "output_type": "execute_result"
    }
   ],
   "source": [
    "user_df[-10:]"
   ]
  },
  {
   "cell_type": "code",
   "execution_count": 108,
   "metadata": {
    "editable": true
   },
   "outputs": [],
   "source": [
    "user_id_df = get_col_counts(sp_df, 'user_id')"
   ]
  },
  {
   "cell_type": "code",
   "execution_count": 109,
   "metadata": {
    "editable": true
   },
   "outputs": [
    {
     "data": {
      "text/html": [
       "<div>\n",
       "<style scoped>\n",
       "    .dataframe tbody tr th:only-of-type {\n",
       "        vertical-align: middle;\n",
       "    }\n",
       "\n",
       "    .dataframe tbody tr th {\n",
       "        vertical-align: top;\n",
       "    }\n",
       "\n",
       "    .dataframe thead th {\n",
       "        text-align: right;\n",
       "    }\n",
       "</style>\n",
       "<table border=\"1\" class=\"dataframe\">\n",
       "  <thead>\n",
       "    <tr style=\"text-align: right;\">\n",
       "      <th></th>\n",
       "      <th>user_id</th>\n",
       "      <th>count</th>\n",
       "    </tr>\n",
       "  </thead>\n",
       "  <tbody>\n",
       "    <tr>\n",
       "      <th>0</th>\n",
       "      <td>49</td>\n",
       "      <td>689</td>\n",
       "    </tr>\n",
       "    <tr>\n",
       "      <th>1</th>\n",
       "      <td>80</td>\n",
       "      <td>665</td>\n",
       "    </tr>\n",
       "    <tr>\n",
       "      <th>2</th>\n",
       "      <td>97</td>\n",
       "      <td>557</td>\n",
       "    </tr>\n",
       "    <tr>\n",
       "      <th>3</th>\n",
       "      <td>15</td>\n",
       "      <td>463</td>\n",
       "    </tr>\n",
       "    <tr>\n",
       "      <th>4</th>\n",
       "      <td>44</td>\n",
       "      <td>397</td>\n",
       "    </tr>\n",
       "    <tr>\n",
       "      <th>5</th>\n",
       "      <td>29</td>\n",
       "      <td>346</td>\n",
       "    </tr>\n",
       "    <tr>\n",
       "      <th>6</th>\n",
       "      <td>24</td>\n",
       "      <td>321</td>\n",
       "    </tr>\n",
       "    <tr>\n",
       "      <th>7</th>\n",
       "      <td>73</td>\n",
       "      <td>289</td>\n",
       "    </tr>\n",
       "    <tr>\n",
       "      <th>8</th>\n",
       "      <td>88</td>\n",
       "      <td>270</td>\n",
       "    </tr>\n",
       "    <tr>\n",
       "      <th>9</th>\n",
       "      <td>36</td>\n",
       "      <td>248</td>\n",
       "    </tr>\n",
       "  </tbody>\n",
       "</table>\n",
       "</div>"
      ],
      "text/plain": [
       "   user_id  count\n",
       "0       49    689\n",
       "1       80    665\n",
       "2       97    557\n",
       "3       15    463\n",
       "4       44    397\n",
       "5       29    346\n",
       "6       24    321\n",
       "7       73    289\n",
       "8       88    270\n",
       "9       36    248"
      ]
     },
     "execution_count": 109,
     "metadata": {},
     "output_type": "execute_result"
    }
   ],
   "source": [
    "user_id_df[:10]"
   ]
  },
  {
   "cell_type": "code",
   "execution_count": 110,
   "metadata": {
    "editable": true
   },
   "outputs": [
    {
     "data": {
      "text/html": [
       "<div>\n",
       "<style scoped>\n",
       "    .dataframe tbody tr th:only-of-type {\n",
       "        vertical-align: middle;\n",
       "    }\n",
       "\n",
       "    .dataframe tbody tr th {\n",
       "        vertical-align: top;\n",
       "    }\n",
       "\n",
       "    .dataframe thead th {\n",
       "        text-align: right;\n",
       "    }\n",
       "</style>\n",
       "<table border=\"1\" class=\"dataframe\">\n",
       "  <thead>\n",
       "    <tr style=\"text-align: right;\">\n",
       "      <th></th>\n",
       "      <th>user_id</th>\n",
       "      <th>count</th>\n",
       "    </tr>\n",
       "  </thead>\n",
       "  <tbody>\n",
       "    <tr>\n",
       "      <th>86</th>\n",
       "      <td>64</td>\n",
       "      <td>2</td>\n",
       "    </tr>\n",
       "    <tr>\n",
       "      <th>87</th>\n",
       "      <td>56</td>\n",
       "      <td>2</td>\n",
       "    </tr>\n",
       "    <tr>\n",
       "      <th>88</th>\n",
       "      <td>11</td>\n",
       "      <td>2</td>\n",
       "    </tr>\n",
       "    <tr>\n",
       "      <th>89</th>\n",
       "      <td>22</td>\n",
       "      <td>2</td>\n",
       "    </tr>\n",
       "    <tr>\n",
       "      <th>90</th>\n",
       "      <td>27</td>\n",
       "      <td>2</td>\n",
       "    </tr>\n",
       "    <tr>\n",
       "      <th>91</th>\n",
       "      <td>39</td>\n",
       "      <td>2</td>\n",
       "    </tr>\n",
       "    <tr>\n",
       "      <th>92</th>\n",
       "      <td>59</td>\n",
       "      <td>2</td>\n",
       "    </tr>\n",
       "    <tr>\n",
       "      <th>93</th>\n",
       "      <td>79</td>\n",
       "      <td>2</td>\n",
       "    </tr>\n",
       "    <tr>\n",
       "      <th>94</th>\n",
       "      <td>45</td>\n",
       "      <td>1</td>\n",
       "    </tr>\n",
       "    <tr>\n",
       "      <th>95</th>\n",
       "      <td>87</td>\n",
       "      <td>1</td>\n",
       "    </tr>\n",
       "  </tbody>\n",
       "</table>\n",
       "</div>"
      ],
      "text/plain": [
       "    user_id  count\n",
       "86       64      2\n",
       "87       56      2\n",
       "88       11      2\n",
       "89       22      2\n",
       "90       27      2\n",
       "91       39      2\n",
       "92       59      2\n",
       "93       79      2\n",
       "94       45      1\n",
       "95       87      1"
      ]
     },
     "execution_count": 110,
     "metadata": {},
     "output_type": "execute_result"
    }
   ],
   "source": [
    "user_id_df[-10:]"
   ]
  },
  {
   "cell_type": "code",
   "execution_count": 120,
   "metadata": {
    "editable": true
   },
   "outputs": [
    {
     "data": {
      "text/plain": [
       "<matplotlib.axes._subplots.AxesSubplot at 0x7f989bea5f28>"
      ]
     },
     "execution_count": 120,
     "metadata": {},
     "output_type": "execute_result"
    },
    {
     "data": {
      "image/png": "[encoded data removed]",
      "text/plain": [
       "<matplotlib.figure.Figure at 0x7f989bf51940>"
      ]
     },
     "metadata": {
      "needs_background": "light"
     },
     "output_type": "display_data"
    }
   ],
   "source": [
    "%matplotlib inline\n",
    "user_id_df['count'].hist()"
   ]
  },
  {
   "cell_type": "code",
   "execution_count": 111,
   "metadata": {
    "editable": true
   },
   "outputs": [],
   "source": [
    "level_df = get_col_counts(sp_df, 'level')"
   ]
  },
  {
   "cell_type": "code",
   "execution_count": 117,
   "metadata": {
    "editable": true
   },
   "outputs": [
    {
     "data": {
      "text/html": [
       "<div>\n",
       "<style scoped>\n",
       "    .dataframe tbody tr th:only-of-type {\n",
       "        vertical-align: middle;\n",
       "    }\n",
       "\n",
       "    .dataframe tbody tr th {\n",
       "        vertical-align: top;\n",
       "    }\n",
       "\n",
       "    .dataframe thead th {\n",
       "        text-align: right;\n",
       "    }\n",
       "</style>\n",
       "<table border=\"1\" class=\"dataframe\">\n",
       "  <thead>\n",
       "    <tr style=\"text-align: right;\">\n",
       "      <th></th>\n",
       "      <th>level</th>\n",
       "      <th>count</th>\n",
       "    </tr>\n",
       "  </thead>\n",
       "  <tbody>\n",
       "    <tr>\n",
       "      <th>0</th>\n",
       "      <td>paid</td>\n",
       "      <td>5591</td>\n",
       "    </tr>\n",
       "    <tr>\n",
       "      <th>1</th>\n",
       "      <td>free</td>\n",
       "      <td>1229</td>\n",
       "    </tr>\n",
       "  </tbody>\n",
       "</table>\n",
       "</div>"
      ],
      "text/plain": [
       "  level  count\n",
       "0  paid   5591\n",
       "1  free   1229"
      ]
     },
     "execution_count": 117,
     "metadata": {},
     "output_type": "execute_result"
    }
   ],
   "source": [
    "level_df"
   ]
  },
  {
   "cell_type": "code",
   "execution_count": 114,
   "metadata": {
    "editable": true
   },
   "outputs": [],
   "source": [
    "session_df = get_col_counts(sp_df, 'session_id')"
   ]
  },
  {
   "cell_type": "code",
   "execution_count": 115,
   "metadata": {
    "editable": true
   },
   "outputs": [
    {
     "data": {
      "text/html": [
       "<div>\n",
       "<style scoped>\n",
       "    .dataframe tbody tr th:only-of-type {\n",
       "        vertical-align: middle;\n",
       "    }\n",
       "\n",
       "    .dataframe tbody tr th {\n",
       "        vertical-align: top;\n",
       "    }\n",
       "\n",
       "    .dataframe thead th {\n",
       "        text-align: right;\n",
       "    }\n",
       "</style>\n",
       "<table border=\"1\" class=\"dataframe\">\n",
       "  <thead>\n",
       "    <tr style=\"text-align: right;\">\n",
       "      <th></th>\n",
       "      <th>session_id</th>\n",
       "      <th>count</th>\n",
       "    </tr>\n",
       "  </thead>\n",
       "  <tbody>\n",
       "    <tr>\n",
       "      <th>0</th>\n",
       "      <td>589</td>\n",
       "      <td>117</td>\n",
       "    </tr>\n",
       "    <tr>\n",
       "      <th>1</th>\n",
       "      <td>984</td>\n",
       "      <td>111</td>\n",
       "    </tr>\n",
       "    <tr>\n",
       "      <th>2</th>\n",
       "      <td>324</td>\n",
       "      <td>108</td>\n",
       "    </tr>\n",
       "    <tr>\n",
       "      <th>3</th>\n",
       "      <td>672</td>\n",
       "      <td>106</td>\n",
       "    </tr>\n",
       "    <tr>\n",
       "      <th>4</th>\n",
       "      <td>221</td>\n",
       "      <td>101</td>\n",
       "    </tr>\n",
       "    <tr>\n",
       "      <th>5</th>\n",
       "      <td>293</td>\n",
       "      <td>99</td>\n",
       "    </tr>\n",
       "    <tr>\n",
       "      <th>6</th>\n",
       "      <td>1041</td>\n",
       "      <td>92</td>\n",
       "    </tr>\n",
       "    <tr>\n",
       "      <th>7</th>\n",
       "      <td>605</td>\n",
       "      <td>85</td>\n",
       "    </tr>\n",
       "    <tr>\n",
       "      <th>8</th>\n",
       "      <td>619</td>\n",
       "      <td>81</td>\n",
       "    </tr>\n",
       "    <tr>\n",
       "      <th>9</th>\n",
       "      <td>411</td>\n",
       "      <td>80</td>\n",
       "    </tr>\n",
       "  </tbody>\n",
       "</table>\n",
       "</div>"
      ],
      "text/plain": [
       "   session_id  count\n",
       "0         589    117\n",
       "1         984    111\n",
       "2         324    108\n",
       "3         672    106\n",
       "4         221    101\n",
       "5         293     99\n",
       "6        1041     92\n",
       "7         605     85\n",
       "8         619     81\n",
       "9         411     80"
      ]
     },
     "execution_count": 115,
     "metadata": {},
     "output_type": "execute_result"
    }
   ],
   "source": [
    "session_df[:10]"
   ]
  },
  {
   "cell_type": "code",
   "execution_count": 118,
   "metadata": {
    "editable": true
   },
   "outputs": [
    {
     "data": {
      "text/html": [
       "<div>\n",
       "<style scoped>\n",
       "    .dataframe tbody tr th:only-of-type {\n",
       "        vertical-align: middle;\n",
       "    }\n",
       "\n",
       "    .dataframe tbody tr th {\n",
       "        vertical-align: top;\n",
       "    }\n",
       "\n",
       "    .dataframe thead th {\n",
       "        text-align: right;\n",
       "    }\n",
       "</style>\n",
       "<table border=\"1\" class=\"dataframe\">\n",
       "  <thead>\n",
       "    <tr style=\"text-align: right;\">\n",
       "      <th></th>\n",
       "      <th>session_id</th>\n",
       "      <th>count</th>\n",
       "    </tr>\n",
       "  </thead>\n",
       "  <tbody>\n",
       "    <tr>\n",
       "      <th>766</th>\n",
       "      <td>669</td>\n",
       "      <td>1</td>\n",
       "    </tr>\n",
       "    <tr>\n",
       "      <th>767</th>\n",
       "      <td>673</td>\n",
       "      <td>1</td>\n",
       "    </tr>\n",
       "    <tr>\n",
       "      <th>768</th>\n",
       "      <td>677</td>\n",
       "      <td>1</td>\n",
       "    </tr>\n",
       "    <tr>\n",
       "      <th>769</th>\n",
       "      <td>681</td>\n",
       "      <td>1</td>\n",
       "    </tr>\n",
       "    <tr>\n",
       "      <th>770</th>\n",
       "      <td>693</td>\n",
       "      <td>1</td>\n",
       "    </tr>\n",
       "    <tr>\n",
       "      <th>771</th>\n",
       "      <td>705</td>\n",
       "      <td>1</td>\n",
       "    </tr>\n",
       "    <tr>\n",
       "      <th>772</th>\n",
       "      <td>717</td>\n",
       "      <td>1</td>\n",
       "    </tr>\n",
       "    <tr>\n",
       "      <th>773</th>\n",
       "      <td>761</td>\n",
       "      <td>1</td>\n",
       "    </tr>\n",
       "    <tr>\n",
       "      <th>774</th>\n",
       "      <td>773</td>\n",
       "      <td>1</td>\n",
       "    </tr>\n",
       "    <tr>\n",
       "      <th>775</th>\n",
       "      <td>525</td>\n",
       "      <td>1</td>\n",
       "    </tr>\n",
       "  </tbody>\n",
       "</table>\n",
       "</div>"
      ],
      "text/plain": [
       "     session_id  count\n",
       "766         669      1\n",
       "767         673      1\n",
       "768         677      1\n",
       "769         681      1\n",
       "770         693      1\n",
       "771         705      1\n",
       "772         717      1\n",
       "773         761      1\n",
       "774         773      1\n",
       "775         525      1"
      ]
     },
     "execution_count": 118,
     "metadata": {},
     "output_type": "execute_result"
    }
   ],
   "source": [
    "session_df[-10:]"
   ]
  },
  {
   "cell_type": "code",
   "execution_count": 121,
   "metadata": {
    "editable": true
   },
   "outputs": [
    {
     "data": {
      "text/plain": [
       "<matplotlib.axes._subplots.AxesSubplot at 0x7f989bf6dfd0>"
      ]
     },
     "execution_count": 121,
     "metadata": {},
     "output_type": "execute_result"
    },
    {
     "data": {
      "image/png": "[encoded data removed]",
      "text/plain": [
       "<matplotlib.figure.Figure at 0x7f989bea5eb8>"
      ]
     },
     "metadata": {
      "needs_background": "light"
     },
     "output_type": "display_data"
    }
   ],
   "source": [
    "session_df['count'].hist()"
   ]
  },
  {
   "cell_type": "markdown",
   "metadata": {
    "editable": true
   },
   "source": [
    "## Basic Insights"
   ]
  },
  {
   "cell_type": "markdown",
   "metadata": {
    "editable": true
   },
   "source": [
    "#### - Our top location is: San Francisco-Oakland-Hayward, CA\n",
    "#### - We've got a ton of users utilizing: '\"Mozilla/5.0 (Macintosh; Intel Mac OS X 10_9_4) AppleWebKit/537.36 (KHTML, like Gecko) Chrome/36.0.1985.143 Safari/537.36\"' Which seems to indicate Apple users like Sparkify\n",
    "#### - We've got more utilization of the platform from our paid users than our free users.\n",
    "#### - Our user who has skipped the most songs has skipped: 689 times\n",
    "#### - Our skips are heavily skewed, with a few users skipping more than 100 times, but most < 100\n",
    "#### - Most user sessions don't last longer than 20 skips, but 1 users has skipped 117 times within a session"
   ]
  },
  {
   "cell_type": "code",
   "execution_count": null,
   "metadata": {
    "editable": true
   },
   "outputs": [],
   "source": []
  },
  {
   "cell_type": "code",
   "execution_count": null,
   "metadata": {
    "editable": true
   },
   "outputs": [],
   "source": []
  },
  {
   "cell_type": "code",
   "execution_count": 21,
   "metadata": {
    "editable": true
   },
   "outputs": [],
   "source": [
    "conn.close()"
   ]
  },
  {
   "cell_type": "code",
   "execution_count": null,
   "metadata": {
    "editable": true
   },
   "outputs": [],
   "source": []
  }
 ],
 "metadata": {
  "kernelspec": {
   "display_name": "Python 3",
   "language": "python",
   "name": "python3"
  },
  "language_info": {
   "codemirror_mode": {
    "name": "ipython",
    "version": 3
   },
   "file_extension": ".py",
   "mimetype": "text/x-python",
   "name": "python",
   "nbconvert_exporter": "python",
   "pygments_lexer": "ipython3",
   "version": "3.6.3"
  }
 },
 "nbformat": 4,
 "nbformat_minor": 4
}
